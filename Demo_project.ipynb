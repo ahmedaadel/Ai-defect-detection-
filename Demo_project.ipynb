{
 "cells": [
  {
   "cell_type": "code",
   "execution_count": 57,
   "metadata": {
    "id": "9hYQE--Z5c_y"
   },
   "outputs": [],
   "source": [
    "import tensorflow\n",
    "import os\n",
    "import numpy as np\n",
    "from os import listdir\n",
    "from PIL import Image\n",
    "from sklearn.model_selection import train_test_split\n",
    "import imageio\n",
    "import cv2\n",
    "import matplotlib.pyplot as plt\n",
    "from keras.utils import to_categorical\n",
    "from keras.models import Sequential\n",
    "from keras.layers import Conv2D, MaxPooling2D, Dense, Flatten, Dropout\n",
    "from keras.optimizers import SGD\n",
    "from sklearn.model_selection import KFold\n",
    "import sklearn.metrics\n",
    "from sklearn.metrics import classification_report\n",
    "from sklearn.metrics import confusion_matrix"
   ]
  },
  {
   "cell_type": "code",
   "execution_count": 58,
   "metadata": {
    "id": "kqJkr6To9byG"
   },
   "outputs": [],
   "source": [
    "\n",
    "imgSize = 64 #resize all images 64*64 pixels\n",
    "numClasses = 2 #0-> defected, 1->good\n",
    "testSize = 0.2 #20% testing, 80%training\n"
   ]
  },
  {
   "cell_type": "code",
   "execution_count": 59,
   "metadata": {
    "id": "tRv065tG-A0N"
   },
   "outputs": [],
   "source": [
    "#get dataset \n",
    "dataset_path='D:/Graduation project/datasets/lemon_dataset/data'\n",
    "l=listdir(dataset_path)        # 0 1\n",
    "X = []\n",
    "Y = []\n",
    "for i, label in enumerate(l):\n",
    "    datas_path = dataset_path + '/' + label\n",
    "    for data in listdir(datas_path):\n",
    "        # print('** ',data)\n",
    "        img = imageio.v2.imread(datas_path + '/' + data, as_gray=False)\n",
    "        img = cv2.resize(img, (imgSize,imgSize))\n",
    "        X.append(img)\n",
    "        Y.append(label)\n"
   ]
  },
  {
   "cell_type": "code",
   "execution_count": 60,
   "metadata": {
    "colab": {
     "base_uri": "https://localhost:8080/",
     "height": 337
    },
    "id": "jIbLezdgAODu",
    "outputId": "08faa44f-90c5-4610-bd5e-5b7d3014532e",
    "scrolled": false
   },
   "outputs": [
    {
     "name": "stdout",
     "output_type": "stream",
     "text": [
      "121.53661799691163\n"
     ]
    },
    {
     "name": "stderr",
     "output_type": "stream",
     "text": [
      "WARNING:matplotlib.image:Clipping input data to the valid range for imshow with RGB data ([0..1] for floats or [0..255] for integers).\n"
     ]
    },
    {
     "name": "stdout",
     "output_type": "stream",
     "text": [
      "0\n",
      "1660\n"
     ]
    },
    {
     "data": {
      "image/png": "[encoded data removed]",
      "text/plain": [
       "<Figure size 640x480 with 1 Axes>"
      ]
     },
     "metadata": {},
     "output_type": "display_data"
    }
   ],
   "source": [
    "avg = np.average(X)\n",
    "print(avg)\n",
    "X = np.asarray(X)\n",
    "X  = X.astype('float32')\n",
    "X -= avg \n",
    "X /= 255\n",
    "\n",
    "#Splitting 20% test , 80% Train\n",
    "x_train, x_test, y_train, y_test = train_test_split(X, Y, test_size=0.2)\n",
    "\n",
    "\n",
    "x_train = np.asarray(x_train)\n",
    "x_test = np.asarray(x_test)\n",
    "y_train = np.asarray(y_train)\n",
    "y_test = np.asarray(y_test)\n",
    "\n",
    "#test image in train\n",
    "plt.imshow(x_train[10])\n",
    "\n",
    "#get its categorized value\n",
    "print(y_train[10])\n",
    "print(x_train.shape[0])\n",
    "\n",
    "# Reshaping the array to 4-dimensions so that it can work with the Keras API\n",
    "x_train = x_train.reshape((x_train.shape[0], imgSize, imgSize, 3))\n",
    "x_test = x_test.reshape((x_test.shape[0], imgSize, imgSize, 3))\n",
    "  \n",
    "\n",
    "y_train = to_categorical(y_train, numClasses)\n",
    "y_test = to_categorical(y_test, numClasses)\n",
    "\n",
    "\n",
    "\n",
    "\n"
   ]
  },
  {
   "cell_type": "code",
   "execution_count": 61,
   "metadata": {
    "id": "Gx7wpX3g8Lrf"
   },
   "outputs": [],
   "source": [
    "#Build CNN Model 1st Arch.\n",
    "\n",
    "\n",
    "model = Sequential()\n",
    "\n",
    "model.add(Conv2D(32, (5, 5), input_shape=(imgSize, imgSize, 3), activation='relu'))\n",
    "\n",
    "model.add(MaxPooling2D())\n",
    "\n",
    "model.add(Dropout(0.2))\n",
    "\n",
    "model.add(Flatten())\n",
    "\n",
    "model.add(Dense(128, activation='relu'))\n",
    "\n",
    "model.add(Dense(64, activation='relu'))\n",
    "\n",
    "model.add(Dense(numClasses, activation='softmax'))\n",
    "# Compile model\n",
    "model.compile(loss='categorical_crossentropy', optimizer='adam', metrics=['accuracy'])"
   ]
  },
  {
   "cell_type": "code",
   "execution_count": 62,
   "metadata": {
    "id": "maKMEBJk-ZuK"
   },
   "outputs": [],
   "source": [
    "# k-fold cross-validation during trianing\n",
    "scores, histories = list(), list()\n",
    "sum_ = 0.0\n",
    "# prepare cross validation\n",
    "K=3\n",
    "kfold = KFold(K, shuffle=True, random_state=1)\n",
    "\n",
    "# enumerate splits\n",
    "for train_ix, val_ix in kfold.split(x_train):\n",
    "    # select rows for train and test\n",
    "    trainX, trainY, valX, valY = x_train[train_ix], y_train[train_ix], x_train[val_ix], y_train[val_ix]\n",
    "    # fit model\n",
    "    history = model.fit(trainX, trainY, epochs=100, batch_size=32, validation_data=(valX, valY), verbose=0)\n",
    "    # evaluate model\n",
    "    _, acc = model.evaluate(valX, valY, verbose=0)\n",
    "    # stores scores\n",
    "    scores.append(acc)\n",
    "    histories.append(history)\n",
    "    sum_ += acc\n",
    "scoreOfVal = sum_ / K\n",
    "\n",
    "#TESTING ACCURACY \n",
    "_, scoreOfTest = model.evaluate(x_test, y_test, batch_size=32, verbose=0)"
   ]
  },
  {
   "cell_type": "code",
   "execution_count": 63,
   "metadata": {
    "colab": {
     "base_uri": "https://localhost:8080/"
    },
    "id": "fR-xNrfa-1C-",
    "outputId": "7d63264b-5053-4b30-b4c8-a05408a3dfad"
   },
   "outputs": [
    {
     "name": "stdout",
     "output_type": "stream",
     "text": [
      "Validation Accuracy=  0.9807243347167969\n",
      "Testing Accuracy=  0.9855769276618958\n",
      "13/13 [==============================] - 0s 16ms/step\n",
      "              precision    recall  f1-score   support\n",
      "\n",
      "           0       0.98      0.98      0.98       182\n",
      "           1       0.99      0.99      0.99       234\n",
      "\n",
      "    accuracy                           0.99       416\n",
      "   macro avg       0.99      0.99      0.99       416\n",
      "weighted avg       0.99      0.99      0.99       416\n",
      "\n",
      "[[179   3]\n",
      " [  3 231]]\n"
     ]
    }
   ],
   "source": [
    "\n",
    "print('Validation Accuracy= ', scoreOfVal)\n",
    "print('Testing Accuracy= ', scoreOfTest)\n",
    "\n",
    "y_pred = model.predict(x_test)\n",
    "# print(y_pred)\n",
    "\n",
    "\n",
    "y_pred_=np.argmax(y_pred, axis=1)\n",
    "y_test_=np.argmax(y_test, axis=1)\n",
    "# print(y_test)\n",
    "\n",
    "\n",
    "print(classification_report(y_test_, y_pred_))\n",
    "print (confusion_matrix(y_test_, y_pred_))\n"
   ]
  },
  {
   "cell_type": "code",
   "execution_count": 64,
   "metadata": {},
   "outputs": [
    {
     "name": "stderr",
     "output_type": "stream",
     "text": [
      "WARNING:absl:Found untraced functions such as _jit_compiled_convolution_op, _update_step_xla while saving (showing 2 of 2). These functions will not be directly callable after loading.\n"
     ]
    },
    {
     "name": "stdout",
     "output_type": "stream",
     "text": [
      "INFO:tensorflow:Assets written to: model.pbtxt\\assets\n"
     ]
    },
    {
     "name": "stderr",
     "output_type": "stream",
     "text": [
      "INFO:tensorflow:Assets written to: model.pbtxt\\assets\n",
      "WARNING:absl:Found untraced functions such as _jit_compiled_convolution_op, _update_step_xla while saving (showing 2 of 2). These functions will not be directly callable after loading.\n"
     ]
    },
    {
     "name": "stdout",
     "output_type": "stream",
     "text": [
      "INFO:tensorflow:Assets written to: C:\\Users\\Dawly\\AppData\\Local\\Temp\\tmpmtgq3fx5\\assets\n"
     ]
    },
    {
     "name": "stderr",
     "output_type": "stream",
     "text": [
      "INFO:tensorflow:Assets written to: C:\\Users\\Dawly\\AppData\\Local\\Temp\\tmpmtgq3fx5\\assets\n"
     ]
    },
    {
     "data": {
      "text/plain": [
       "14792608"
      ]
     },
     "execution_count": 64,
     "metadata": {},
     "output_type": "execute_result"
    }
   ],
   "source": [
    "tensorflow.keras.models.save_model(model, 'model.pbtxt')\n",
    "converter = tensorflow. lite. TFLiteConverter.from_keras_model(model = model)\n",
    "model_tflite = converter.convert()\n",
    "open (\"DefectDetectionModel.tflite\", \"wb\").write(model_tflite)"
   ]
  },
  {
   "cell_type": "code",
   "execution_count": null,
   "metadata": {},
   "outputs": [],
   "source": []
  }
 ],
 "metadata": {
  "accelerator": "GPU",
  "colab": {
   "provenance": []
  },
  "gpuClass": "standard",
  "kernelspec": {
   "display_name": "Python 3 (ipykernel)",
   "language": "python",
   "name": "python3"
  },
  "language_info": {
   "codemirror_mode": {
    "name": "ipython",
    "version": 3
   },
   "file_extension": ".py",
   "mimetype": "text/x-python",
   "name": "python",
   "nbconvert_exporter": "python",
   "pygments_lexer": "ipython3",
   "version": "3.9.13"
  }
 },
 "nbformat": 4,
 "nbformat_minor": 1
}
